{
 "cells": [
  {
   "cell_type": "markdown",
   "metadata": {},
   "source": [
    "## Introduction/Business Problem "
   ]
  },
  {
   "cell_type": "markdown",
   "metadata": {},
   "source": [
    "* Assume you are a global investor in field of gastronomy and you are looking to open a chain of restaurants in biggest cities in Europe. Many cities... Obviously you don not know every single city, and actually don't know where to locate your restaurants. Whether it's  good idea to invest only in city centers, or maybe most of restaurants are hidden in some specific districts.\n",
    "\n",
    "* The aim of this analysis if to automatically find area of city with biggest density of restaurants and nightlife facilities using segmentation. I'll be profiling districts of Warsaw (capital city of Poland) as a small prof of concept because I know the city and can verify whether findings from segmentation looks reasonable or not. \n"
   ]
  },
  {
   "cell_type": "markdown",
   "metadata": {},
   "source": [
    "## Data"
   ]
  },
  {
   "cell_type": "markdown",
   "metadata": {},
   "source": [
    "* list of dictricts of Warsaw from wiki to scrap them: https://pl.wikipedia.org/wiki/Podzia%C5%82_administracyjny_Warszawy\n",
    "* Foursquare location data to take info about venues from each district. Then I'll be able to make segmentation and profiling of districts"
   ]
  }
 ],
 "metadata": {
  "kernelspec": {
   "display_name": "Python 3",
   "language": "python",
   "name": "python3"
  },
  "language_info": {
   "codemirror_mode": {
    "name": "ipython",
    "version": 3
   },
   "file_extension": ".py",
   "mimetype": "text/x-python",
   "name": "python",
   "nbconvert_exporter": "python",
   "pygments_lexer": "ipython3",
   "version": "3.6.1"
  }
 },
 "nbformat": 4,
 "nbformat_minor": 2
}
